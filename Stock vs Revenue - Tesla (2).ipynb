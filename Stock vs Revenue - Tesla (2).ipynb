{
  "metadata": {
    "kernelspec": {
      "name": "python",
      "display_name": "Python (Pyodide)",
      "language": "python"
    },
    "language_info": {
      "codemirror_mode": {
        "name": "python",
        "version": 3
      },
      "file_extension": ".py",
      "mimetype": "text/x-python",
      "name": "python",
      "nbconvert_exporter": "python",
      "pygments_lexer": "ipython3",
      "version": "3.8"
    }
  },
  "nbformat_minor": 4,
  "nbformat": 4,
  "cells": [
    {
      "cell_type": "markdown",
      "source": "## Question 1 - Extracting Tesla Stock Data Using yfinance\n",
      "metadata": {}
    },
    {
      "cell_type": "code",
      "source": "import yfinance as yf\nimport pandas as pd\n\n# Fetch Tesla stock data\ntesla_stock = yf.Ticker(\"TSLA\")\n\n# Download historical stock data\ntesla_data = tesla_stock.history(period=\"max\")\n\n# Display the downoaded data\ntesla_data.head()",
      "metadata": {
        "trusted": true
      },
      "outputs": [],
      "execution_count": null
    },
    {
      "cell_type": "markdown",
      "source": "# Question 2 - Extracting Tesla Revenue Data Using Webscraping\n",
      "metadata": {}
    },
    {
      "cell_type": "code",
      "source": "import pandas as pd\nimport requests\nfrom bs4 import BeautifulSoup\n\nurl = \"https://cf-courses-data.s3.us.cloud-object-storage.appdomain.cloud/IBMDeveloperSkillsNetwork-PY0220EN-SkillsNetwork/labs/project/revenue.htm\"\nhtml_data  = requests.get(url).text\n\nsoup = BeautifulSoup(html_data, \"html.parser\")\n\ntesla_tables = soup.find_all('table')\n \nfor index,table in enumerate(tesla_tables):\n    if (\"Tesla Quarterly Revenue\" in str(table)):\n        tesla_table_index = index\n \ntesla_revenue = pd.DataFrame(columns=[\"Date\", \"Revenue\"])\n \nfor row in tesla_tables[tesla_table_index].tbody.find_all(\"tr\"):\n    col = row.find_all(\"td\")\n    if (col !=[]):\n        date = col[0].text\n        revenue = col[1].text.replace(\"$\", \"\").replace(\",\", \"\")\n        new_row = pd.DataFrame({\"Date\": [date], \"Revenue\": [revenue]})\n        tesla_revenue = pd.concat([tesla_revenue, new_row], ignore_index=True)\n\ntesla_revenue.head()",
      "metadata": {
        "trusted": true
      },
      "outputs": [],
      "execution_count": null
    },
    {
      "cell_type": "markdown",
      "source": "## Question 5 - Tesla Stock and Revenue Dashboard",
      "metadata": {}
    },
    {
      "cell_type": "code",
      "source": "import plotly.graph_objects as go\nfrom plotly.subplots import make_subplots\n\ndef make_graph(tesla_data, tesla_revenue, 'Tesla'):\n    fig = make_subplots(rows=2, cols=1, shared_xaxes=True, subplot_titles=(\"Historical Share Price\", \"Historical Revenue\"), vertical_spacing = .3)\n    tesla_data_specific = tesla_data[tela_data.Date <= '2021--06-14']\n    tesla_revenue_specific = tesla_revenue[tesla_revenue.Date <= '2021-04-30']\n    fig.add_trace(go.Scatter(x=pd.to_datetime(tesla_data_specific.Date), y=tesla_data_specific.Close.astype(\"float\"), name=\"Share Price\"), row=1, col=1)\n    fig.add_trace(go.Scatter(x=pd.to_datetime(tesla_revenue_specific.Date), y=tesla_revenue_specific.Revenue.astype(\"float\"), name=\"Revenue\"), row=2, col=1)\n    fig.update_xaxes(title_text=\"Date\", row=1, col=1)\n    fig.update_xaxes(title_text=\"Date\", row=2, col=1)\n    fig.update_yaxes(title_text=\"Price ($US)\", row=1, col=1)\n    fig.update_yaxes(title_text=\"Revenue ($US Millions)\", row=2, col=1)\n    fig.update_layout(showlegend=False,\n    height=900,\n    title=stock,\n    xaxis_rangeslider_visible=True)\n    fig.show()",
      "metadata": {
        "trusted": true
      },
      "outputs": [],
      "execution_count": null
    }
  ]
}